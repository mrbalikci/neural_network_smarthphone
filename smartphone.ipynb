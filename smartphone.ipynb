{
 "cells": [
  {
   "cell_type": "markdown",
   "metadata": {},
   "source": [
    "\n",
    "# Data Pre-Processing\n",
    "Note: This dataset has already been scaled"
   ]
  },
  {
   "cell_type": "code",
   "execution_count": 1,
   "metadata": {},
   "outputs": [
    {
     "name": "stderr",
     "output_type": "stream",
     "text": [
      "Using TensorFlow backend.\n"
     ]
    }
   ],
   "source": [
    "# Impord dependencies \n",
    "\n",
    "import os\n",
    "import tensorflow as tf\n",
    "from keras.models import Sequential\n",
    "from keras.utils import to_categorical\n",
    "from keras.layers import Dense\n",
    "\n",
    "import numpy as np\n",
    "import pandas as pd"
   ]
  },
  {
   "cell_type": "code",
   "execution_count": 2,
   "metadata": {},
   "outputs": [
    {
     "name": "stdout",
     "output_type": "stream",
     "text": [
      "Test\n",
      "Train\n",
      "voice.csv\n",
      "voice.md\n"
     ]
    }
   ],
   "source": [
    "!ls data"
   ]
  },
  {
   "cell_type": "code",
   "execution_count": 4,
   "metadata": {
    "collapsed": true
   },
   "outputs": [],
   "source": [
    "# Read test and training data\n",
    "\n",
    "# Training Data Paths\n",
    "X_training_data = os.path.join(\"data\", \"Train\", \"X_train.txt\")\n",
    "y_training_data = os.path.join(\"data\", \"Train\", \"y_train.txt\")\n",
    "\n",
    "# Testing Data Paths\n",
    "X_testing_data = os.path.join(\"data\", \"Test\", \"X_test.txt\")\n",
    "y_testing_data = os.path.join(\"data\", \"Test\", \"y_test.txt\")"
   ]
  },
  {
   "cell_type": "code",
   "execution_count": 5,
   "metadata": {
    "collapsed": true
   },
   "outputs": [],
   "source": [
    "# Read the training data into a dataframe\n",
    "X_train_df = pd.read_csv(X_training_data, delimiter=\" \", skiprows=1, header=None)\n",
    "X_train_df.head()\n",
    "\n",
    "# Convert the dataframe to a numpy array for Keras\n",
    "X_train = X_train_df.values\n",
    "\n",
    "# Read in the training labels as a dataframe\n",
    "y_train_df = pd.read_csv(y_training_data)\n"
   ]
  },
  {
   "cell_type": "code",
   "execution_count": 31,
   "metadata": {},
   "outputs": [
    {
     "data": {
      "text/html": [
       "<div>\n",
       "<style>\n",
       "    .dataframe thead tr:only-child th {\n",
       "        text-align: right;\n",
       "    }\n",
       "\n",
       "    .dataframe thead th {\n",
       "        text-align: left;\n",
       "    }\n",
       "\n",
       "    .dataframe tbody tr th {\n",
       "        vertical-align: top;\n",
       "    }\n",
       "</style>\n",
       "<table border=\"1\" class=\"dataframe\">\n",
       "  <thead>\n",
       "    <tr style=\"text-align: right;\">\n",
       "      <th></th>\n",
       "      <th>5</th>\n",
       "    </tr>\n",
       "  </thead>\n",
       "  <tbody>\n",
       "    <tr>\n",
       "      <th>0</th>\n",
       "      <td>5</td>\n",
       "    </tr>\n",
       "    <tr>\n",
       "      <th>1</th>\n",
       "      <td>5</td>\n",
       "    </tr>\n",
       "    <tr>\n",
       "      <th>2</th>\n",
       "      <td>5</td>\n",
       "    </tr>\n",
       "    <tr>\n",
       "      <th>3</th>\n",
       "      <td>5</td>\n",
       "    </tr>\n",
       "    <tr>\n",
       "      <th>4</th>\n",
       "      <td>5</td>\n",
       "    </tr>\n",
       "  </tbody>\n",
       "</table>\n",
       "</div>"
      ],
      "text/plain": [
       "   5\n",
       "0  5\n",
       "1  5\n",
       "2  5\n",
       "3  5\n",
       "4  5"
      ]
     },
     "execution_count": 31,
     "metadata": {},
     "output_type": "execute_result"
    }
   ],
   "source": [
    "y_train_df.head()\n",
    "# 5 is STANDING"
   ]
  },
  {
   "cell_type": "code",
   "execution_count": 9,
   "metadata": {},
   "outputs": [],
   "source": [
    "# One-hot encode the integer labels\n",
    "# 1 WALKING           \n",
    "# 2 WALKING_UPSTAIRS  \n",
    "# 3 WALKING_DOWNSTAIRS\n",
    "# 4 SITTING           \n",
    "# 5 STANDING          \n",
    "# 6 LAYING            \n",
    "# 7 STAND_TO_SIT      \n",
    "# 8 SIT_TO_STAND      \n",
    "# 9 SIT_TO_LIE        \n",
    "# 10 LIE_TO_SIT        \n",
    "# 11 STAND_TO_LIE      \n",
    "# 12 LIE_TO_STAND      \n",
    "\n",
    "y_train = to_categorical(y_train_df)\n",
    "y_train[:10]\n",
    "\n",
    "# Read the testing data\n",
    "X_test_df = pd.read_csv(X_testing_data, delimiter=\" \", skiprows=1, header=None)\n",
    "X_test = X_test_df.values\n",
    "\n",
    "# Read the testing labels\n",
    "y_test_df = pd.read_csv(y_testing_data)\n",
    "\n",
    "# One-hot encode the integer labels\n",
    "y_test = to_categorical(y_test_df)"
   ]
  },
  {
   "cell_type": "code",
   "execution_count": null,
   "metadata": {},
   "outputs": [],
   "source": []
  },
  {
   "cell_type": "markdown",
   "metadata": {},
   "source": [
    "# Deep Neural Network"
   ]
  },
  {
   "cell_type": "code",
   "execution_count": 10,
   "metadata": {
    "collapsed": true
   },
   "outputs": [],
   "source": [
    "# Create an empty sequential model\n",
    "model = Sequential()\n",
    "\n",
    "# Add the first layer where the input dimensions are the 561 columns of the training data\n",
    "model.add(Dense(100, activation='relu', input_dim=X_train.shape[1]))\n",
    "\n",
    "# Add a second hidden layer\n",
    "model.add(Dense(100, activation='relu'))"
   ]
  },
  {
   "cell_type": "code",
   "execution_count": 11,
   "metadata": {},
   "outputs": [
    {
     "data": {
      "text/plain": [
       "(7766, 13)"
      ]
     },
     "execution_count": 11,
     "metadata": {},
     "output_type": "execute_result"
    }
   ],
   "source": [
    "# The output layer has 13 columns that are one-hot encoded\n",
    "y_train.shape"
   ]
  },
  {
   "cell_type": "code",
   "execution_count": 14,
   "metadata": {
    "collapsed": true
   },
   "outputs": [],
   "source": [
    "# Add output layer\n",
    "# This time 'linear'\n",
    "model.add(Dense(y_train.shape[1], activation=\"linear\"))"
   ]
  },
  {
   "cell_type": "code",
   "execution_count": 15,
   "metadata": {
    "collapsed": true
   },
   "outputs": [],
   "source": [
    "# Compile the model using mean squared error for the loss function, the adam optimizer,\n",
    "# and add accuracy to the training metrics\n",
    "model.compile(loss=\"mse\", optimizer=\"adam\", metrics=['accuracy'])"
   ]
  },
  {
   "cell_type": "code",
   "execution_count": 16,
   "metadata": {
    "scrolled": true
   },
   "outputs": [
    {
     "name": "stdout",
     "output_type": "stream",
     "text": [
      "Epoch 1/50\n",
      " - 2s - loss: 0.0326 - acc: 0.7919\n",
      "Epoch 2/50\n",
      " - 1s - loss: 0.0135 - acc: 0.9187\n",
      "Epoch 3/50\n",
      " - 1s - loss: 0.0096 - acc: 0.9410\n",
      "Epoch 4/50\n",
      " - 1s - loss: 0.0075 - acc: 0.9558\n",
      "Epoch 5/50\n",
      " - 1s - loss: 0.0066 - acc: 0.9597\n",
      "Epoch 6/50\n",
      " - 1s - loss: 0.0062 - acc: 0.9585\n",
      "Epoch 7/50\n",
      " - 1s - loss: 0.0052 - acc: 0.9665\n",
      "Epoch 8/50\n",
      " - 1s - loss: 0.0058 - acc: 0.9648\n",
      "Epoch 9/50\n",
      " - 1s - loss: 0.0051 - acc: 0.9676\n",
      "Epoch 10/50\n",
      " - 1s - loss: 0.0044 - acc: 0.9732\n",
      "Epoch 11/50\n",
      " - 1s - loss: 0.0043 - acc: 0.9735\n",
      "Epoch 12/50\n",
      " - 1s - loss: 0.0039 - acc: 0.9759\n",
      "Epoch 13/50\n",
      " - 1s - loss: 0.0043 - acc: 0.9727\n",
      "Epoch 14/50\n",
      " - 1s - loss: 0.0036 - acc: 0.9763\n",
      "Epoch 15/50\n",
      " - 1s - loss: 0.0035 - acc: 0.9780\n",
      "Epoch 16/50\n",
      " - 1s - loss: 0.0039 - acc: 0.9760\n",
      "Epoch 17/50\n",
      " - 1s - loss: 0.0035 - acc: 0.9763\n",
      "Epoch 18/50\n",
      " - 1s - loss: 0.0034 - acc: 0.9791\n",
      "Epoch 19/50\n",
      " - 1s - loss: 0.0033 - acc: 0.9791\n",
      "Epoch 20/50\n",
      " - 1s - loss: 0.0028 - acc: 0.9824\n",
      "Epoch 21/50\n",
      " - 1s - loss: 0.0030 - acc: 0.9798\n",
      "Epoch 22/50\n",
      " - 1s - loss: 0.0033 - acc: 0.9790\n",
      "Epoch 23/50\n",
      " - 1s - loss: 0.0028 - acc: 0.9827\n",
      "Epoch 24/50\n",
      " - 1s - loss: 0.0028 - acc: 0.9826\n",
      "Epoch 25/50\n",
      " - 1s - loss: 0.0030 - acc: 0.9816\n",
      "Epoch 26/50\n",
      " - 1s - loss: 0.0028 - acc: 0.9817\n",
      "Epoch 27/50\n",
      " - 1s - loss: 0.0026 - acc: 0.9833\n",
      "Epoch 28/50\n",
      " - 1s - loss: 0.0030 - acc: 0.9800\n",
      "Epoch 29/50\n",
      " - 1s - loss: 0.0022 - acc: 0.9864\n",
      "Epoch 30/50\n",
      " - 1s - loss: 0.0025 - acc: 0.9834\n",
      "Epoch 31/50\n",
      " - 1s - loss: 0.0025 - acc: 0.9847\n",
      "Epoch 32/50\n",
      " - 1s - loss: 0.0021 - acc: 0.9869\n",
      "Epoch 33/50\n",
      " - 1s - loss: 0.0025 - acc: 0.9843\n",
      "Epoch 34/50\n",
      " - 1s - loss: 0.0026 - acc: 0.9838\n",
      "Epoch 35/50\n",
      " - 1s - loss: 0.0023 - acc: 0.9852\n",
      "Epoch 36/50\n",
      " - 1s - loss: 0.0020 - acc: 0.9879\n",
      "Epoch 37/50\n",
      " - 1s - loss: 0.0021 - acc: 0.9862\n",
      "Epoch 38/50\n",
      " - 1s - loss: 0.0020 - acc: 0.9867\n",
      "Epoch 39/50\n",
      " - 1s - loss: 0.0019 - acc: 0.9880\n",
      "Epoch 40/50\n",
      " - 1s - loss: 0.0020 - acc: 0.9871\n",
      "Epoch 41/50\n",
      " - 1s - loss: 0.0019 - acc: 0.9883\n",
      "Epoch 42/50\n",
      " - 1s - loss: 0.0019 - acc: 0.9876\n",
      "Epoch 43/50\n",
      " - 1s - loss: 0.0021 - acc: 0.9854\n",
      "Epoch 44/50\n",
      " - 1s - loss: 0.0017 - acc: 0.9882\n",
      "Epoch 45/50\n",
      " - 1s - loss: 0.0019 - acc: 0.9882\n",
      "Epoch 46/50\n",
      " - 1s - loss: 0.0017 - acc: 0.9888\n",
      "Epoch 47/50\n",
      " - 1s - loss: 0.0020 - acc: 0.9880\n",
      "Epoch 48/50\n",
      " - 1s - loss: 0.0017 - acc: 0.9878\n",
      "Epoch 49/50\n",
      " - 1s - loss: 0.0016 - acc: 0.9903\n",
      "Epoch 50/50\n",
      " - 1s - loss: 0.0017 - acc: 0.9892\n"
     ]
    },
    {
     "data": {
      "text/plain": [
       "<keras.callbacks.History at 0x24ae4612f98>"
      ]
     },
     "execution_count": 16,
     "metadata": {},
     "output_type": "execute_result"
    }
   ],
   "source": [
    "# Use the training data to fit (train) the model\n",
    "model.fit(\n",
    "    X_train,\n",
    "    y_train,\n",
    "    epochs=50,\n",
    "    shuffle=True,\n",
    "    verbose=2\n",
    ")"
   ]
  },
  {
   "cell_type": "markdown",
   "metadata": {},
   "source": [
    "# Save the Trained Model"
   ]
  },
  {
   "cell_type": "code",
   "execution_count": 17,
   "metadata": {
    "collapsed": true
   },
   "outputs": [],
   "source": [
    "# Save the model\n",
    "model.save(\"smartphone_trained.h5\")"
   ]
  },
  {
   "cell_type": "markdown",
   "metadata": {},
   "source": [
    "# Evaluate the Model"
   ]
  },
  {
   "cell_type": "code",
   "execution_count": 18,
   "metadata": {
    "collapsed": true
   },
   "outputs": [],
   "source": [
    "# Load the model\n",
    "from keras.models import load_model\n",
    "model = load_model(\"smartphone_trained.h5\")"
   ]
  },
  {
   "cell_type": "code",
   "execution_count": 25,
   "metadata": {},
   "outputs": [
    {
     "name": "stdout",
     "output_type": "stream",
     "text": [
      "_________________________________________________________________\n",
      "Layer (type)                 Output Shape              Param #   \n",
      "=================================================================\n",
      "dense_1 (Dense)              (None, 100)               56200     \n",
      "_________________________________________________________________\n",
      "dense_2 (Dense)              (None, 100)               10100     \n",
      "_________________________________________________________________\n",
      "dense_3 (Dense)              (None, 13)                1313      \n",
      "=================================================================\n",
      "Total params: 67,613\n",
      "Trainable params: 67,613\n",
      "Non-trainable params: 0\n",
      "_________________________________________________________________\n"
     ]
    }
   ],
   "source": [
    "model.summary()"
   ]
  },
  {
   "cell_type": "code",
   "execution_count": 19,
   "metadata": {},
   "outputs": [
    {
     "name": "stdout",
     "output_type": "stream",
     "text": [
      "Loss: 0.008132264866977277, Accuracy: 0.9319835495096488\n"
     ]
    }
   ],
   "source": [
    "# Evaluate the model using the training data \n",
    "model_loss, model_accuracy = model.evaluate(X_test, y_test, verbose=2)\n",
    "print(f\"Loss: {model_loss}, Accuracy: {model_accuracy}\")"
   ]
  },
  {
   "cell_type": "code",
   "execution_count": 51,
   "metadata": {},
   "outputs": [
    {
     "data": {
      "text/plain": [
       "(1, 561)"
      ]
     },
     "execution_count": 51,
     "metadata": {},
     "output_type": "execute_result"
    }
   ],
   "source": [
    "# Grab just one data point to test with\n",
    "test = np.expand_dims(X_test[0], axis=0)\n",
    "test.shape"
   ]
  },
  {
   "cell_type": "code",
   "execution_count": 52,
   "metadata": {},
   "outputs": [
    {
     "name": "stdout",
     "output_type": "stream",
     "text": [
      "Predicted class: [5]\n",
      "Actual class:    5\n",
      "0  5\n"
     ]
    }
   ],
   "source": [
    "# Make a prediction. The result should be 5 - STANDING\n",
    "print(f\"Predicted class: {model.predict_classes(test)}\")\n",
    "print(f\"Actual class: {y_test_df.iloc[:1]}\")"
   ]
  },
  {
   "cell_type": "code",
   "execution_count": null,
   "metadata": {
    "collapsed": true
   },
   "outputs": [],
   "source": []
  }
 ],
 "metadata": {
  "kernelspec": {
   "display_name": "Python 3",
   "language": "python",
   "name": "python3"
  },
  "language_info": {
   "codemirror_mode": {
    "name": "ipython",
    "version": 3
   },
   "file_extension": ".py",
   "mimetype": "text/x-python",
   "name": "python",
   "nbconvert_exporter": "python",
   "pygments_lexer": "ipython3",
   "version": "3.6.2"
  }
 },
 "nbformat": 4,
 "nbformat_minor": 2
}
